{
 "cells": [
  {
   "cell_type": "markdown",
   "id": "b489c747",
   "metadata": {},
   "source": [
    "# Probability and Statistics"
   ]
  },
  {
   "cell_type": "markdown",
   "id": "9a9b439e",
   "metadata": {},
   "source": [
    "Author: Lyle Kenneth Geraldez"
   ]
  },
  {
   "cell_type": "markdown",
   "id": "fd853c4d",
   "metadata": {},
   "source": [
    "## What is an event?\n",
    "+ Provide a scientific or mathematical definition of the probability of an event/experimental outcome."
   ]
  },
  {
   "cell_type": "markdown",
   "id": "7356731c",
   "metadata": {},
   "source": [
    "From a relatvist's point of view, an event is an element of a 4D pseudo-Riemannian manifold with a Lorentzian (-+++) signature. From this point of view, all objects follow a worldline along the manifold embodying all events it experiences as it follows the laws of physics. While this view is useful for analysis involving (relativistic) causality, defining such is impractical. In an experimental setting,  a more useful view is to  define an event to be a subset of a sample space. This is helpful when dealing with a random process or a pseudo-random but deterministic process - a bit useful when applied to a system with astronomical quantities of possible microstates. Although needlessly obvious when used to calculate probabilities of rolling a die, it can be a powerful tool for quantifying emergent characteristics that can arise from most physical systems. \n",
    "\n",
    "\n",
    "Suppose in a phenomena being measured there exists an $n_s$ outcomes with $n_a$ corresponding to an event $A$, then, the probability of the event is simply the ratio of the $n_a/n_s$. Using this definition, for a fair die with six sides ($n_s = 6$), the probability of tossing it to land on a face with die value $3$ (containing once event instance on the sample space: $n_a = 1$) is \n",
    "\n",
    "\n",
    "$$n_a/n_S = 1/6$$\n",
    "\n",
    "In practice, executing a small number of trials may lead us to believe that one face my be more frequent than the other. However, increasing the empirical trial tests show that the probability approaches an equal 1/6 value for all faces as can be shown in the code below."
   ]
  },
  {
   "cell_type": "code",
   "execution_count": 8,
   "id": "f557bd22",
   "metadata": {},
   "outputs": [
    {
     "data": {
      "image/png": "[encoded data removed]",
      "text/plain": [
       "<Figure size 1080x288 with 5 Axes>"
      ]
     },
     "metadata": {
      "needs_background": "light"
     },
     "output_type": "display_data"
    }
   ],
   "source": [
    "import random\n",
    "import matplotlib.pyplot as plt\n",
    "\n",
    "# Define the number of dice throws\n",
    "num_throws = [10, 100, 1000, 10000, 100000]\n",
    "\n",
    "# Create subplots\n",
    "fig, axs = plt.subplots(1, 5, figsize=(15, 4))\n",
    "\n",
    "# Simulate and plot the distribution for each number of throws\n",
    "for i, n in enumerate(num_throws):\n",
    "    # Simulate the dice throws\n",
    "    throws = [random.randint(1, 6) for _ in range(n)]\n",
    "    \n",
    "    # Compute the frequency of each dice face\n",
    "    freq = [throws.count(i) for i in range(1, 7)]\n",
    "    \n",
    "    # Plot the distribution\n",
    "    axs[i].bar(range(1, 7), freq)\n",
    "    axs[i].set_xlabel('Dice face')\n",
    "    axs[i].set_ylabel('Frequency')\n",
    "    axs[i].set_title(f'{n} throws')\n",
    "\n",
    "plt.tight_layout()\n",
    "plt.show()\n",
    "\n",
    "## This code runs a different result every time\n",
    "\n",
    "## However, observe that the results for a many-trial run shows basically the same \n",
    "## emergent feature."
   ]
  },
  {
   "cell_type": "markdown",
   "id": "77b5e118",
   "metadata": {},
   "source": [
    "Observe that we can use statistics to find out governing emergent characteristics of an otherwise (practically) unpredictable set of events. Although the occurences of die-landing results may appear to be untamed or unpredictable, they develop a quite predictable pattern as the process goes on."
   ]
  },
  {
   "cell_type": "markdown",
   "id": "4965448e",
   "metadata": {},
   "source": [
    "## Stat for what?\n",
    "+ Provide an example of how a statistical treatment of data can improve the quality of life or how a misinterpretation of statistics can lead to large-scale inconveniences."
   ]
  },
  {
   "cell_type": "markdown",
   "id": "066e741e",
   "metadata": {},
   "source": [
    "Statistical models rely on a phenomenological form of mathematical modeling, rather than a mechanistic approach. It's crucial to acknowledge that mathematics governs nearly everything in the universe; some even suggest that the universe is mathematics (see Max Tegmark). While mechanistic modeling provides rigorous laws that govern all events within the scope of those laws, modeling complex events from this first-principles approach may not always be practical. For instance, mechanistic models can accurately describe the trajectory of a point particle under a known force. However, when it comes to modeling sociological phenomena from the ground up (e.g., from the laws of physics), a theoretical possibility does not necessarily imply the right tool to use. Instead, we use a phenomenological model, which entails analyzing the system's emergent behavior using a theory-agnostic model through statistics. Statistics, as a result, is an incredibly versatile tool applicable in numerous data-rich fields, ranging from elementary particles, economics, people's beliefs, crime mitigation, sports, politics, and arguably any other data-driven domain. As all powerful tool goes, statistics have been proven to be useful a multitude of applications while also being harmful to some."
   ]
  },
  {
   "cell_type": "markdown",
   "id": "a23faf37",
   "metadata": {},
   "source": [
    "Here are some cases:\n",
    "\n",
    "1. Medical Research: Statistics is extensively used in medical research to investigate the effectiveness of drugs, medical treatments, and medical devices. This helps in improving the quality of life by ensuring that medical procedures are safe and effective.\n",
    "\n",
    "\n",
    "2. Education: Statistics are used to measure the effectiveness of educational programs, the academic performance of students, and to identify areas that need improvement. This helps educators to develop more effective teaching strategies and provide students with better education.\n",
    "\n",
    "\n",
    "3. Public Policy: Governments use statistics to evaluate the effectiveness of public policies and to determine the allocation of public resources. This helps in improving the quality of life by ensuring that resources are used efficiently and effectively.\n",
    "\n",
    "\n",
    "4. Environmental Studies: Statistics are used in environmental studies to monitor the effects of pollution and to track changes in the environment. This helps in developing strategies to protect the environment and improve the quality of life.\n",
    "\n",
    "\n",
    "5. Market Research: Statistics are used in market research to identify consumer trends and preferences, and to evaluate the effectiveness of marketing campaigns. This helps businesses to develop better products and services that meet the needs of their customers.\n",
    "\n",
    "\n",
    "\n",
    "Misinterpretation of Statistics and Large-Scale Inconveniences:\n",
    "\n",
    "1. Medical Studies: Misinterpretation of statistics in medical studies can lead to incorrect conclusions about the effectiveness of drugs or medical procedures. This can result in the use of ineffective or harmful treatments.\n",
    "\n",
    "\n",
    "2. Public Policy: Misinterpretation of statistics in public policy can result in the allocation of public resources to ineffective programs, leading to a waste of resources and potentially harmful consequences.\n",
    "\n",
    "\n",
    "3. Financial Decisions: Misinterpretation of statistics in financial decision-making can lead to poor investment choices or incorrect risk assessment, resulting in significant financial losses.\n",
    "\n",
    "\n",
    "4. Legal Cases: Misinterpretation of statistics in legal cases can lead to incorrect conclusions, resulting in the conviction of innocent people or the acquittal of guilty parties.\n",
    "\n",
    "\n",
    "5. Media Reporting: Misinterpretation of statistics by the media can lead to incorrect information being disseminated to the public, potentially causing panic or misinformation."
   ]
  },
  {
   "cell_type": "markdown",
   "id": "9a45e8c3",
   "metadata": {},
   "source": [
    "## But how do we count?\n",
    "+ Provide definitions of a permutation and a combination in terms of factorials and binomial coefficients. Give an example of each."
   ]
  },
  {
   "cell_type": "markdown",
   "id": "db6bb58f",
   "metadata": {},
   "source": [
    "For a die with six sides, obviously the total number of possible outcomes is six, which can be found by simply counting. However, such manual counting can be hard to do when considering a more complex system. For instance, if one is tasked to find how many possible arrangements are there in a three-digit pincode, the difficulty of executing manual counting can now be observed. For these, we need a more sophisticated mathematical tool that we will briefly summarize."
   ]
  },
  {
   "cell_type": "markdown",
   "id": "b8827daf",
   "metadata": {},
   "source": [
    "### Permutations\n",
    "\n",
    "To count the number of possible arrangements possessing positional uniqueness of $k$ objects selected from a set of $n$ objects ($k<n$), we calculate the permutation $^nP_k$:\n",
    "\n",
    "$$\n",
    "^nP_k := \\frac{n!}{(n-k)!} \n",
    "$$\n",
    "\n",
    "for permuations without recycling used objects. For permuations with recycled objects, the permuation is\n",
    "$$\n",
    "n^k\n",
    "$$\n",
    "\n",
    "As interesting example, we can try asking \"How common is your birthday?\""
   ]
  },
  {
   "cell_type": "code",
   "execution_count": null,
   "id": "9ab8b684",
   "metadata": {},
   "outputs": [],
   "source": [
    "# How common is your birthday?\n",
    "\n"
   ]
  },
  {
   "cell_type": "markdown",
   "id": "0a412379",
   "metadata": {},
   "source": [
    "### Combinations\n",
    "\n",
    "Now, if we eliminate the dependence on positional arrangement (e.g. the combination 1-0-0-1 is counted the same as 0-1-0-1 or 1-1-0-0 or 1-0-1-0), we can calculate the combination as $^nC_k$:\n",
    "\n",
    "$$\n",
    "^nC_k := \\frac{n!}{n(n-k)!} =: \n",
    "\\begin{bmatrix}\n",
    "n\\\\\n",
    "k\n",
    "\\end{bmatrix}\n",
    "$$\n",
    "\n",
    "The combination definition is sometimes called the *binomial coefficient* as it can be used to expand a binomial expression as\n",
    "\n",
    "$$\n",
    "(a+b)^n = \\sum_{k=0}^n (^nC_k) a^k b^{n-k}\n",
    "$$\n",
    "\n",
    "\n",
    "To demonstrate the application of calculating combinations, we can try finding the probability of containing two aces from a hand of 13 cards"
   ]
  },
  {
   "cell_type": "code",
   "execution_count": 9,
   "id": "c645598e",
   "metadata": {},
   "outputs": [],
   "source": [
    "## Hand of 13 cards"
   ]
  },
  {
   "cell_type": "code",
   "execution_count": null,
   "id": "6a5f3579",
   "metadata": {},
   "outputs": [],
   "source": []
  },
  {
   "cell_type": "markdown",
   "id": "39d16809",
   "metadata": {},
   "source": [
    "(Insert counting problem set)"
   ]
  },
  {
   "cell_type": "markdown",
   "id": "936a7b8a",
   "metadata": {},
   "source": [
    "## Characterizing randomness"
   ]
  },
  {
   "cell_type": "markdown",
   "id": "3c2b87d8",
   "metadata": {},
   "source": [
    "### Probability distributiion function"
   ]
  },
  {
   "cell_type": "markdown",
   "id": "e6891717",
   "metadata": {},
   "source": [
    "A random or stochastic variable X consists of a set of outcomes rxx and a probability distribution function\n",
    "or PDF px\u0006. Provide the essential properties of a PDF (non-negativity and normalizability) when the set\n",
    "of outcomes form a discrete and when the set of outcomes form a continuum"
   ]
  },
  {
   "cell_type": "code",
   "execution_count": 11,
   "id": "30e4872a",
   "metadata": {},
   "outputs": [],
   "source": [
    "## page 1169, Riley"
   ]
  },
  {
   "cell_type": "markdown",
   "id": "861b7f35",
   "metadata": {},
   "source": [
    "Describe how to evaluate the moments or mean values of a random variable X in terms of its PDF."
   ]
  },
  {
   "cell_type": "code",
   "execution_count": 12,
   "id": "91242940",
   "metadata": {},
   "outputs": [],
   "source": [
    "## page 1169, Riley"
   ]
  },
  {
   "cell_type": "markdown",
   "id": "69cdfac3",
   "metadata": {},
   "source": [
    "Describe how the cumulant generating function can be used to obtain the first cumulant (mean) and the second cumulant (variance).\n"
   ]
  },
  {
   "cell_type": "code",
   "execution_count": 10,
   "id": "bde3cf3d",
   "metadata": {},
   "outputs": [],
   "source": [
    "## page 1196, Riley"
   ]
  },
  {
   "cell_type": "code",
   "execution_count": null,
   "id": "4039213b",
   "metadata": {},
   "outputs": [],
   "source": []
  }
 ],
 "metadata": {
  "kernelspec": {
   "display_name": "Python 3 (ipykernel)",
   "language": "python",
   "name": "python3"
  },
  "language_info": {
   "codemirror_mode": {
    "name": "ipython",
    "version": 3
   },
   "file_extension": ".py",
   "mimetype": "text/x-python",
   "name": "python",
   "nbconvert_exporter": "python",
   "pygments_lexer": "ipython3",
   "version": "3.9.12"
  }
 },
 "nbformat": 4,
 "nbformat_minor": 5
}
