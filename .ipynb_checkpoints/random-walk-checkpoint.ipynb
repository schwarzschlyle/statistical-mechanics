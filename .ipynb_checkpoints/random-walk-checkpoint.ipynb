{
 "cells": [
  {
   "cell_type": "markdown",
   "id": "92f5cbac",
   "metadata": {},
   "source": [
    "# Random Walk"
   ]
  },
  {
   "cell_type": "markdown",
   "id": "cf9d31f7",
   "metadata": {},
   "source": [
    "The simple random walk can be thought of as a sequence of independent realizations of a binary random variable. Give other examples where such a random sequence, such as LRRLRLLLRLR. . . , can be\n",
    "important."
   ]
  },
  {
   "cell_type": "markdown",
   "id": "b4b6db93",
   "metadata": {},
   "source": [
    "Given a symmetric random walk (p  q  1©2) with an exact number of steps N, give the probability that\n",
    "the walk has k steps to the right. Show how the binomial distribution arises in the random walk problem."
   ]
  },
  {
   "cell_type": "markdown",
   "id": "32b8abc8",
   "metadata": {},
   "source": [
    "Give the Stirling approximation. Give the central limit theorem and the required conditions for it to hold."
   ]
  },
  {
   "cell_type": "markdown",
   "id": "7f68af32",
   "metadata": {},
   "source": [
    "Discuss how the PDF of displacements in the random walk approaches a Gaussian distribution."
   ]
  },
  {
   "cell_type": "markdown",
   "id": "4bd67a5f",
   "metadata": {},
   "source": [
    "Very educational to do: Obtain the diffusion equation from the continuum limit of a random walk"
   ]
  },
  {
   "cell_type": "markdown",
   "id": "d526c0e5",
   "metadata": {},
   "source": [
    "# References"
   ]
  },
  {
   "cell_type": "code",
   "execution_count": null,
   "id": "d301cdb4",
   "metadata": {},
   "outputs": [],
   "source": []
  }
 ],
 "metadata": {
  "kernelspec": {
   "display_name": "Python 3 (ipykernel)",
   "language": "python",
   "name": "python3"
  },
  "language_info": {
   "codemirror_mode": {
    "name": "ipython",
    "version": 3
   },
   "file_extension": ".py",
   "mimetype": "text/x-python",
   "name": "python",
   "nbconvert_exporter": "python",
   "pygments_lexer": "ipython3",
   "version": "3.9.12"
  }
 },
 "nbformat": 4,
 "nbformat_minor": 5
}
